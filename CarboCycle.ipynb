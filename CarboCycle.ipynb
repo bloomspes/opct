{
 "cells": [
  {
   "cell_type": "markdown",
   "metadata": {},
   "source": [
    "# food영양정보"
   ]
  },
  {
   "cell_type": "code",
   "execution_count": 3,
   "metadata": {},
   "outputs": [],
   "source": [
    "hatban = {\"TotalKal\":195, \"Tan\":43, \"Pro\":4, \"Fat\":1.4} #현미햇반 130g\n",
    "chiken = {\"TotalKal\":165, \"Tan\":0, \"Pro\":31, \"Fat\":3.6} #닭가슴살 100g\n",
    "tomato = {\"TotalKal\":28.8, \"Tan\":6.24, \"Pro\":1.44, \"Fat\":0.32} #토마토 100g\n",
    "protain_drink = {\"TotalKal\":99, \"Tan\":8, \"Pro\":20, \"Fat\":0} #프로틴 드링크(셀렉스 초코맛 1회 분량 기준)\n",
    "Mu = {\"TotalKal\":15, \"Tan\":3.4, \"Pro\":0.7, \"Fat\":0.1} # 무 100g\n",
    "gonyack = {\"TotalKal\":145, \"Tan\":30, \"Pro\":6, \"Fat\":1.8} #현미 곤약밥 130g\n",
    "suzis = {\"TotalKal\":123, \"Tan\":5, \"Pro\":24, \"Fat\":0.8} #수지스 페퍼콘 닭가슴살\n",
    "amond = {\"TotalKal\":35, \"Tan\":3.2, \"Pro\":1.2, \"Fat\":2.1} #아몬드 브리즈 언스위트 190ml\n",
    "amond_pro = {\"TotalKal\":65, \"Tan\":5, \"Pro\":4.2, \"Fat\":3} #아몬드 브리즈 프로틴플러스 190ml\n",
    "egg_white = {\"TotalKal\":52, \"Tan\":0.7, \"Pro\":11, \"Fat\":0.2} #계란흰자 100g\n",
    "egg = {\"TotalKal\":155, \"Tan\":1.1, \"Pro\":13, \"Fat\":11} #삶은계란 100g\n",
    "cake1 = {\"TotalKal\":246, \"Tan\":28, \"Pro\":18, \"Fat\":9} #프레드 촉촉한 카카오"
   ]
  },
  {
   "cell_type": "code",
   "execution_count": 4,
   "metadata": {},
   "outputs": [],
   "source": [
    "egg_1 = {\"TotalKal\":193.2,\"Tan\":3,\"Pro\":21,\"Fat\":10.8} #동의 반숙란\n",
    "chilly = {\"TotalKal\":130,\"Tan\":3,\"Pro\":27,\"Fat\":1.3} #닭가슴살칠리페퍼아워홈\n",
    "hatban2 = {\"TotalKal\":195,\"Tan\":43,\"Pro\":4,\"Fat\":1.3} #햇반현미밥130g\n",
    "kim = {\"TotalKal\":10, \"Tan\":1, \"Pro\":2, \"Fat\":0} #\n",
    "chikin3 = {\"TotalKal\":125, \"Tan\":1, \"Pro\":26, \"Fat\":1.8} #닭가슴살 블랙페퍼\n",
    "chikin4 = {\"TotalKal\":105, \"Tan\":1, \"Pro\":23, \"Fat\":1.2} #닭가슴살 훈제\n",
    "chikin5 = {\"TotalKal\":130, \"Tan\":2, \"Pro\":28, \"Fat\":0} #닭가슴살 참숯훈연"
   ]
  },
  {
   "cell_type": "code",
   "execution_count": 12,
   "metadata": {},
   "outputs": [],
   "source": [
    "def foodcal(food, qta, day, gram=100):\n",
    "    \"\"\"음식량에 대한 칼로리 계산함수, 단 기성품은 단품의 그람수를 기준으로 작성되었다.\"\"\"\n",
    "    import pandas as pd\n",
    "    g = gram * 0.01\n",
    "    result = {\"TotalKal\":0, \"Tan\":0, \"Pro\":0, \"Fat\":0, \"Day\": str(day)}\n",
    "    result[\"TotalKal\"] = food[\"TotalKal\"]*qta*g\n",
    "    result[\"Tan\"] = food[\"Tan\"]*qta*g\n",
    "    result[\"Pro\"] = food[\"Pro\"]*qta*g\n",
    "    result[\"Fat\"] = food[\"Fat\"]*qta*g\n",
    "    result[\"Day\"] = str(day)\n",
    "    return pd.Series(result)"
   ]
  },
  {
   "cell_type": "code",
   "execution_count": 14,
   "metadata": {},
   "outputs": [
    {
     "data": {
      "text/plain": [
       "TotalKal    391.676\n",
       "Tan         11.1248\n",
       "Pro         63.1688\n",
       "Fat          9.4904\n",
       "Day             444\n",
       "dtype: object"
      ]
     },
     "execution_count": 14,
     "metadata": {},
     "output_type": "execute_result"
    }
   ],
   "source": [
    "#194\n",
    "f1 = foodcal(chiken, 1.94, 4)\n",
    "f2 = foodcal(tomato, 1.27, 4)\n",
    "f3 = foodcal(amond, 1, 4)\n",
    "m1 = f1+f2+f3\n",
    "m1"
   ]
  },
  {
   "cell_type": "code",
   "execution_count": null,
   "metadata": {},
   "outputs": [],
   "source": []
  }
 ],
 "metadata": {
  "kernelspec": {
   "display_name": "Python 3",
   "language": "python",
   "name": "python3"
  },
  "language_info": {
   "codemirror_mode": {
    "name": "ipython",
    "version": 3
   },
   "file_extension": ".py",
   "mimetype": "text/x-python",
   "name": "python",
   "nbconvert_exporter": "python",
   "pygments_lexer": "ipython3",
   "version": "3.7.6"
  }
 },
 "nbformat": 4,
 "nbformat_minor": 4
}
