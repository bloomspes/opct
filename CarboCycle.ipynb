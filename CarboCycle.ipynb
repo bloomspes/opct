{
 "cells": [
  {
   "cell_type": "markdown",
   "metadata": {},
   "source": [
    "# food영양정보"
   ]
  },
  {
   "cell_type": "code",
   "execution_count": 3,
   "metadata": {},
   "outputs": [],
   "source": [
    "hatban = {\"TotalKal\":195, \"Tan\":43, \"Pro\":4, \"Fat\":1.4} #현미햇반 130g\n",
    "chiken = {\"TotalKal\":165, \"Tan\":0, \"Pro\":31, \"Fat\":3.6} #닭가슴살 100g\n",
    "tomato = {\"TotalKal\":28.8, \"Tan\":6.24, \"Pro\":1.44, \"Fat\":0.32} #토마토 100g\n",
    "protain_drink = {\"TotalKal\":99, \"Tan\":8, \"Pro\":20, \"Fat\":0} #프로틴 드링크(셀렉스 초코맛 1회 분량 기준)\n",
    "Mu = {\"TotalKal\":15, \"Tan\":3.4, \"Pro\":0.7, \"Fat\":0.1} # 무 100g\n",
    "gonyack = {\"TotalKal\":145, \"Tan\":30, \"Pro\":6, \"Fat\":1.8} #현미 곤약밥 130g\n",
    "suzis = {\"TotalKal\":123, \"Tan\":5, \"Pro\":24, \"Fat\":0.8} #수지스 페퍼콘 닭가슴살\n",
    "amond = {\"TotalKal\":35, \"Tan\":3.2, \"Pro\":1.2, \"Fat\":2.1} #아몬드 브리즈 언스위트 190ml\n",
    "amond_pro = {\"TotalKal\":65, \"Tan\":5, \"Pro\":4.2, \"Fat\":3} #아몬드 브리즈 프로틴플러스 190ml\n",
    "egg_white = {\"TotalKal\":52, \"Tan\":0.7, \"Pro\":11, \"Fat\":0.2} #계란흰자 100g\n",
    "egg = {\"TotalKal\":155, \"Tan\":1.1, \"Pro\":13, \"Fat\":11} #삶은계란 100g\n",
    "cake1 = {\"TotalKal\":246, \"Tan\":28, \"Pro\":18, \"Fat\":9} #프레드 촉촉한 카카오"
   ]
  },
  {
   "cell_type": "code",
   "execution_count": 4,
   "metadata": {},
   "outputs": [],
   "source": [
    "egg_1 = {\"TotalKal\":193.2,\"Tan\":3,\"Pro\":21,\"Fat\":10.8} #동의 반숙란\n",
    "chilly = {\"TotalKal\":130,\"Tan\":3,\"Pro\":27,\"Fat\":1.3} #닭가슴살칠리페퍼아워홈\n",
    "hatban2 = {\"TotalKal\":195,\"Tan\":43,\"Pro\":4,\"Fat\":1.3} #햇반현미밥130g\n",
    "kim = {\"TotalKal\":10, \"Tan\":1, \"Pro\":2, \"Fat\":0} #\n",
    "chikin3 = {\"TotalKal\":125, \"Tan\":1, \"Pro\":26, \"Fat\":1.8} #닭가슴살 블랙페퍼\n",
    "chikin4 = {\"TotalKal\":105, \"Tan\":1, \"Pro\":23, \"Fat\":1.2} #닭가슴살 훈제\n",
    "chikin5 = {\"TotalKal\":130, \"Tan\":2, \"Pro\":28, \"Fat\":0} #닭가슴살 참숯훈연"
   ]
  },
  {
   "cell_type": "code",
   "execution_count": 12,
   "metadata": {},
   "outputs": [],
   "source": [
    "def foodcal(food, qta, day, gram=100):\n",
    "    \"\"\"음식량에 대한 칼로리 계산함수, 단 기성품은 단품의 그람수를 기준으로 작성되었다.\"\"\"\n",
    "    import pandas as pd\n",
    "    g = gram * 0.01\n",
    "    result = {\"TotalKal\":0, \"Tan\":0, \"Pro\":0, \"Fat\":0, \"Day\": str(day)}\n",
    "    result[\"TotalKal\"] = food[\"TotalKal\"]*qta*g\n",
    "    result[\"Tan\"] = food[\"Tan\"]*qta*g\n",
    "    result[\"Pro\"] = food[\"Pro\"]*qta*g\n",
    "    result[\"Fat\"] = food[\"Fat\"]*qta*g\n",
    "    result[\"Day\"] = str(day)\n",
    "    return pd.Series(result)"
   ]
  },
  {
   "cell_type": "code",
   "execution_count": 14,
   "metadata": {},
   "outputs": [
    {
     "data": {
      "text/plain": [
       "TotalKal    391.676\n",
       "Tan         11.1248\n",
       "Pro         63.1688\n",
       "Fat          9.4904\n",
       "Day             444\n",
       "dtype: object"
      ]
     },
     "execution_count": 14,
     "metadata": {},
     "output_type": "execute_result"
    }
   ],
   "source": [
    "#194\n",
    "f1 = foodcal(chiken, 1.94, 4)\n",
    "f2 = foodcal(tomato, 1.27, 4)\n",
    "f3 = foodcal(amond, 1, 4)\n",
    "m1 = f1+f2+f3\n",
    "m1"
   ]
  },
  {
   "cell_type": "code",
   "execution_count": 1,
   "metadata": {},
   "outputs": [
    {
     "data": {
      "text/plain": [
       "'\\n65.24\\t262.44\\t26.92\\t123.2\\t1700\\n108.24\\t235.44\\t23.32\\t93.2\\t1700\\n151.24\\t208.44\\t19.72\\t63.2\\t1700\\n65.24\\t262.44\\t26.92\\t123.2\\t1700\\n108.24\\t235.44\\t23.32\\t93.2\\t1700\\n151.24\\t208.44\\t19.72\\t63.2\\t1700\\n'"
      ]
     },
     "execution_count": 1,
     "metadata": {},
     "output_type": "execute_result"
    }
   ],
   "source": [
    "'''\n",
    "65.24\t262.44\t26.92\t123.2\t1700\n",
    "108.24\t235.44\t23.32\t93.2\t1700\n",
    "151.24\t208.44\t19.72\t63.2\t1700\n",
    "65.24\t262.44\t26.92\t123.2\t1700\n",
    "108.24\t235.44\t23.32\t93.2\t1700\n",
    "151.24\t208.44\t19.72\t63.2\t1700\n",
    "'''"
   ]
  },
  {
   "cell_type": "code",
   "execution_count": 3,
   "metadata": {},
   "outputs": [],
   "source": [
    "Carbohydrate = [65, 108, 151, 65, 108, 151]\n",
    "Protein = [162, 235, 208, 262, 235, 208]\n",
    "Fat = [27, 23, 20, 27, 23, 20]\n",
    "Calories = [170, 170, 170, 170, 170, 170]\n",
    "training = [150,100,150,100,100,100]"
   ]
  },
  {
   "cell_type": "code",
   "execution_count": 4,
   "metadata": {},
   "outputs": [],
   "source": [
    "Calories     = [160, 170, 180, 160, 170, 180]\n",
    "Carbohydrate = [50,150,350,150,50,350,50]\n",
    "Protein      = [300,240,180,240,300,300,240,180]\n",
    "Fat          = [20,20,20,20,20,20,20]"
   ]
  },
  {
   "cell_type": "code",
   "execution_count": 6,
   "metadata": {},
   "outputs": [],
   "source": [
    "Calories     = [160,170,180,170,160,180,160,155,180,160,160,180,160,160,155,155,160,160,170,155,160]\n",
    "Carbohydrate = [50 ,150,350,150,50 ,350,50 ,30 ,300,50 ,50 ,300,50 ,50 ,30 ,40 ,50 ,60 ,100,30,50]\n",
    "Protein      = [300,240,180,240,300,300,240,180]"
   ]
  },
  {
   "cell_type": "code",
   "execution_count": 14,
   "metadata": {},
   "outputs": [],
   "source": [
    "firstweek = {\n",
    "    'calories[Kcal*10]' : [170, 170, 170, 170, 170, 170],\n",
    "    'Carbohydrate[g]' : [65, 108, 151, 65, 108, 151],\n",
    "    'Protein[g]' :[162, 235, 208, 262, 235, 208],\n",
    "    'Fat[g]' : [27, 23, 20, 27, 23, 20],\n",
    "}\n",
    "index= ['1day', '2day', '3day', '4day', '5day', '6day']"
   ]
  },
  {
   "cell_type": "code",
   "execution_count": 16,
   "metadata": {},
   "outputs": [
    {
     "data": {
      "text/html": [
       "<div>\n",
       "<style scoped>\n",
       "    .dataframe tbody tr th:only-of-type {\n",
       "        vertical-align: middle;\n",
       "    }\n",
       "\n",
       "    .dataframe tbody tr th {\n",
       "        vertical-align: top;\n",
       "    }\n",
       "\n",
       "    .dataframe thead th {\n",
       "        text-align: right;\n",
       "    }\n",
       "</style>\n",
       "<table border=\"1\" class=\"dataframe\">\n",
       "  <thead>\n",
       "    <tr style=\"text-align: right;\">\n",
       "      <th></th>\n",
       "      <th>calories[Kcal*10]</th>\n",
       "      <th>Carbohydrate[g]</th>\n",
       "      <th>Protein[g]</th>\n",
       "      <th>Fat[g]</th>\n",
       "    </tr>\n",
       "  </thead>\n",
       "  <tbody>\n",
       "    <tr>\n",
       "      <th>1day</th>\n",
       "      <td>170</td>\n",
       "      <td>65</td>\n",
       "      <td>162</td>\n",
       "      <td>27</td>\n",
       "    </tr>\n",
       "    <tr>\n",
       "      <th>2day</th>\n",
       "      <td>170</td>\n",
       "      <td>108</td>\n",
       "      <td>235</td>\n",
       "      <td>23</td>\n",
       "    </tr>\n",
       "    <tr>\n",
       "      <th>3day</th>\n",
       "      <td>170</td>\n",
       "      <td>151</td>\n",
       "      <td>208</td>\n",
       "      <td>20</td>\n",
       "    </tr>\n",
       "    <tr>\n",
       "      <th>4day</th>\n",
       "      <td>170</td>\n",
       "      <td>65</td>\n",
       "      <td>262</td>\n",
       "      <td>27</td>\n",
       "    </tr>\n",
       "    <tr>\n",
       "      <th>5day</th>\n",
       "      <td>170</td>\n",
       "      <td>108</td>\n",
       "      <td>235</td>\n",
       "      <td>23</td>\n",
       "    </tr>\n",
       "    <tr>\n",
       "      <th>6day</th>\n",
       "      <td>170</td>\n",
       "      <td>151</td>\n",
       "      <td>208</td>\n",
       "      <td>20</td>\n",
       "    </tr>\n",
       "  </tbody>\n",
       "</table>\n",
       "</div>"
      ],
      "text/plain": [
       "      calories[Kcal*10]  Carbohydrate[g]  Protein[g]  Fat[g]\n",
       "1day                170               65         162      27\n",
       "2day                170              108         235      23\n",
       "3day                170              151         208      20\n",
       "4day                170               65         262      27\n",
       "5day                170              108         235      23\n",
       "6day                170              151         208      20"
      ]
     },
     "execution_count": 16,
     "metadata": {},
     "output_type": "execute_result"
    }
   ],
   "source": [
    "import pandas as pd\n",
    "import matplotlib.pyplot as plt\n",
    "import numpy as np\n",
    "\n",
    "df = pd.DataFrame(firstweek, index=index)\n",
    "df"
   ]
  },
  {
   "cell_type": "code",
   "execution_count": 26,
   "metadata": {},
   "outputs": [
    {
     "name": "stderr",
     "output_type": "stream",
     "text": [
      "/Users/jooyoungson/opt/anaconda3/lib/python3.7/site-packages/ipykernel_launcher.py:12: UserWarning: Matplotlib is currently using module://ipykernel.pylab.backend_inline, which is a non-GUI backend, so cannot show the figure.\n",
      "  if sys.path[0] == '':\n"
     ]
    },
    {
     "data": {
      "image/png": "[encoded data removed]",
      "text/plain": [
       "<Figure size 1296x576 with 1 Axes>"
      ]
     },
     "metadata": {
      "needs_background": "light"
     },
     "output_type": "display_data"
    }
   ],
   "source": [
    "fig = plt.figure(figsize=(18,8))\n",
    "ax1 = fig.add_subplot(1,1,1)\n",
    "\n",
    "ax1.plot(df['calories[Kcal*10]'], marker=r'o', color=u'blue', linestyle='-', label='calories')\n",
    "ax1.plot(df['Carbohydrate[g]'], marker=r'o', color=u'red', linestyle='-', label='Carbohydrate')\n",
    "ax1.plot(df['Protein[g]'], marker=r'o', color=u'green',linestyle='-', label='Protein')\n",
    "ax1.plot(df['Fat[g]'], marker=r'o', color=u'black', linestyle='-',label='Fat')\n",
    "ax1.set_title('CarboCycle', fontsize=20)\n",
    "\n",
    "ax1.grid()\n",
    "fig.legend()\n",
    "fig.show()"
   ]
  },
  {
   "cell_type": "markdown",
   "metadata": {},
   "source": [
    "# 2nd Week\n",
    "\n",
    "- 고탄day에는 칼로리도 늘림.\n",
    "- 탄수화물 변동폭 늘림.\n",
    "- 단백질은 200g이상!\n",
    "- 지방은 40g이하"
   ]
  },
  {
   "cell_type": "markdown",
   "metadata": {},
   "source": [
    "# 요약\n",
    "\n",
    "### 1주차\n",
    "\n",
    "- 하루 1700kcal씩 먹음\n",
    "- 탄수 65g 108g, 150g\n",
    "- 하루 2번 운동(opct)함 (아침: 6시 ~ 8시사이), 저녁(7시 ~ 10시사이)\n",
    "\n",
    "- 결과\n",
    "    - 해볼만 함, 멘탈적으로 문제 없음, 일상생활에 영향 없음.\n",
    "    - 인바디 결과:\n",
    "\n",
    "- 고찰: 가장 중요한것은 탄수량과 칼로리량. 저탄데이때 부족한 칼로리를 지방으로 섭취하지말고 단백질로 섭취할것. \n",
    "\n",
    "\n",
    "\n",
    "### 2주차 전략\n",
    "\n",
    "- 탄수화물 변동 사이클에 맞춰 칼로리 운동량에 변화를 준다. \n",
    "    - 고탄데이에는 칼로리 높게 고강도 운동\n",
    "    - 저탄데이에는 칼로리 낮게 저강도 운동  \n",
    "\n",
    "\n",
    "- 탄수화물 변동 사이클을 늘린다\n",
    "    - 50g[-100], 150g, 250g[+100] //1600kcal[-100], 1700kcal, 1800kcal[+100]\n",
    "    - *탄수화물 칼로리, 1g당 4kcal"
   ]
  },
  {
   "cell_type": "code",
   "execution_count": 32,
   "metadata": {},
   "outputs": [
    {
     "data": {
      "text/plain": [
       "400"
      ]
     },
     "execution_count": 32,
     "metadata": {},
     "output_type": "execute_result"
    }
   ],
   "source": []
  },
  {
   "cell_type": "code",
   "execution_count": null,
   "metadata": {},
   "outputs": [],
   "source": [
    "Calories     = [160,170,180,170,160,180,160,155,180]\n",
    "Carbohydrate = [50 ,150,350,150,50 ,350,50 ,30 ,300]\n",
    "Protein      = [200,200,200,200,200,200,200,200]\n",
    "Fat          = [20 ,20 ,20, 20, 20, 20, 20]"
   ]
  },
  {
   "cell_type": "code",
   "execution_count": null,
   "metadata": {},
   "outputs": [],
   "source": [
    "#단백질과 탄수화물이 1그램당 4 kcal, 지방이 1그램당 9 kcal, "
   ]
  },
  {
   "cell_type": "code",
   "execution_count": 5,
   "metadata": {},
   "outputs": [],
   "source": [
    "Calories     = [160, 170, 180, 160, 170, 180]\n",
    "Carbohydrate = [50,150,250,150,50,150,200]\n",
    "Protein      = [300,240,180,240,300,300,240,180]\n",
    "Fat          = [20,20,20,20,20,20,20]"
   ]
  },
  {
   "cell_type": "code",
   "execution_count": null,
   "metadata": {},
   "outputs": [],
   "source": []
  }
 ],
 "metadata": {
  "kernelspec": {
   "display_name": "Python 3",
   "language": "python",
   "name": "python3"
  },
  "language_info": {
   "codemirror_mode": {
    "name": "ipython",
    "version": 3
   },
   "file_extension": ".py",
   "mimetype": "text/x-python",
   "name": "python",
   "nbconvert_exporter": "python",
   "pygments_lexer": "ipython3",
   "version": "3.7.6"
  }
 },
 "nbformat": 4,
 "nbformat_minor": 4
}
